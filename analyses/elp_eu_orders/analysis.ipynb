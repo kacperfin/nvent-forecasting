{
 "cells": [
  {
   "cell_type": "markdown",
   "id": "0",
   "metadata": {},
   "source": [
    "# ELP EU"
   ]
  },
  {
   "cell_type": "code",
   "execution_count": null,
   "id": "1",
   "metadata": {},
   "outputs": [],
   "source": [
    "import pandas as pd\n",
    "import matplotlib\n",
    "import matplotlib.pyplot as plt\n",
    "import seaborn as sns\n",
    "from sklearn.model_selection import TimeSeriesSplit, GridSearchCV\n",
    "from sklearn.ensemble import RandomForestRegressor\n",
    "\n",
    "from settings import TARGET, COLUMNS_TO_DROP, LAGS, DIFFS, N_OUTER_SPLITS, N_INNER_SPLITS, TEST_SIZE\n",
    "from features import add_time_features, add_lags, add_diffs\n",
    "from metrics import get_scores, add_scores_to_dict\n",
    "from plots import plot_data_split, plot_prediction\n",
    "from clean_data import get_elp_eu_orders_dataframe\n",
    "\n",
    "sns.set_style('whitegrid')\n",
    "matplotlib.rcParams['grid.color'] = '#eee'\n",
    "color_palette = sns.color_palette()"
   ]
  },
  {
   "cell_type": "code",
   "execution_count": null,
   "id": "2",
   "metadata": {},
   "outputs": [],
   "source": [
    "df = get_elp_eu_orders_dataframe()\n",
    "df.head()"
   ]
  },
  {
   "cell_type": "markdown",
   "id": "3",
   "metadata": {},
   "source": [
    "#### Initial data exploring"
   ]
  },
  {
   "cell_type": "code",
   "execution_count": null,
   "id": "4",
   "metadata": {},
   "outputs": [],
   "source": [
    "for word in ['day', 'day_of_week', 'month', 'year']:\n",
    "    fig, ax = plt.subplots(1, 1, figsize=(12, 3))\n",
    "    sns.lineplot(df, x=getattr(df.index, word), y=df[TARGET])\n",
    "    plt.xlabel('Date')\n",
    "    plt.ylabel('$', rotation=0, labelpad=16)\n",
    "    ax.get_yaxis().set_major_formatter(matplotlib.ticker.FuncFormatter(lambda x, p: format(int(x), ',')))\n",
    "    plt.title(f'Mean value of sum of orders for each day, aggregated by {word}')\n",
    "    plt.show()"
   ]
  },
  {
   "cell_type": "markdown",
   "id": "5",
   "metadata": {},
   "source": [
    "#### Feature engineering"
   ]
  },
  {
   "cell_type": "code",
   "execution_count": null,
   "id": "6",
   "metadata": {},
   "outputs": [],
   "source": [
    "add_time_features(df)\n",
    "add_lags(df, lags=LAGS, columns=[TARGET, 'count_of_orders'])\n",
    "add_diffs(df, diffs=DIFFS, columns=[TARGET, 'count_of_orders'])\n",
    "df.dropna(inplace=True)"
   ]
  },
  {
   "cell_type": "markdown",
   "id": "7",
   "metadata": {},
   "source": [
    "#### Data split for nested cross-validation"
   ]
  },
  {
   "cell_type": "code",
   "execution_count": null,
   "id": "8",
   "metadata": {},
   "outputs": [],
   "source": [
    "X = df.drop(columns=COLUMNS_TO_DROP)\n",
    "y = df[[TARGET]]\n",
    "\n",
    "outer_cv = TimeSeriesSplit(n_splits=N_OUTER_SPLITS, test_size=TEST_SIZE)\n",
    "inner_cv = TimeSeriesSplit(n_splits=N_INNER_SPLITS, test_size=TEST_SIZE)"
   ]
  },
  {
   "cell_type": "code",
   "execution_count": null,
   "id": "9",
   "metadata": {},
   "outputs": [],
   "source": [
    "fig, ax = plt.subplots(N_OUTER_SPLITS*N_INNER_SPLITS, 1, figsize=(20, 3*N_OUTER_SPLITS*N_INNER_SPLITS), sharex=True)\n",
    "\n",
    "for outer_fold, (train_and_val_idx, test_idx) in enumerate(outer_cv.split(y)):\n",
    "    train_and_val, test = y.iloc[train_and_val_idx], y.iloc[test_idx]\n",
    "    for inner_fold, (train_idx, val_idx) in enumerate(inner_cv.split(train_and_val)):\n",
    "        train, val = y.iloc[train_idx], y.iloc[val_idx]\n",
    "        ax_idx = outer_fold * N_INNER_SPLITS + inner_fold\n",
    "        plot_data_split(ax[ax_idx], TARGET, train, val, test)"
   ]
  },
  {
   "cell_type": "markdown",
   "id": "10",
   "metadata": {},
   "source": [
    "#### Time series nested cross-validation"
   ]
  },
  {
   "cell_type": "code",
   "execution_count": null,
   "id": "11",
   "metadata": {},
   "outputs": [],
   "source": [
    "metrics = {'rmse': [], 'mae': [], 'r2': []}\n",
    "metrics_monthly = {'rmse': [], 'mae': [], 'mape': [], 'r2': []}\n",
    "\n",
    "param_grid = {\n",
    "    'n_estimators': [100, 200, 500, 1000, 2000],\n",
    "    'max_depth': [5, 10, None],\n",
    "    'min_samples_split': [2, 5],\n",
    "}\n",
    "\n",
    "fig, ax = plt.subplots(N_OUTER_SPLITS, 1, figsize=(20, 4*N_OUTER_SPLITS), sharex=True)\n",
    "fig, axm = plt.subplots(N_OUTER_SPLITS, 1, figsize=(20, 4*N_OUTER_SPLITS), sharex=True)\n",
    "\n",
    "for outer_fold, (train_idx, test_idx) in enumerate(outer_cv.split(y)):\n",
    "    print(f'--- Outer fold {outer_fold+1} ---')\n",
    "\n",
    "    X_train, X_test = X.iloc[train_idx], X.iloc[test_idx]\n",
    "    y_train, y_test = y.iloc[train_idx], y.iloc[test_idx]\n",
    "\n",
    "    grid_search = GridSearchCV(\n",
    "        estimator=RandomForestRegressor(random_state=42, n_jobs=-1),\n",
    "        param_grid=param_grid,\n",
    "        cv=inner_cv,\n",
    "        scoring='neg_mean_squared_error',\n",
    "        n_jobs=-1,\n",
    "        verbose=3,\n",
    "        error_score='raise'\n",
    "    )\n",
    "\n",
    "    grid_search.fit(X_train, y_train[TARGET])\n",
    "\n",
    "    print('Parameters of the best model:')\n",
    "    for key, value in grid_search.best_params_.items():\n",
    "        print(f'{key}: {value}')\n",
    "    print()\n",
    "\n",
    "    y_pred = pd.DataFrame(grid_search.predict(X_test),\n",
    "                          columns=['y'],\n",
    "                          index=y_test.index)\n",
    "    \n",
    "    scores = get_scores(y_test, y_pred)\n",
    "    add_scores_to_dict(metrics, scores)\n",
    "\n",
    "    plot_prediction(ax[outer_fold], TARGET, y_train, y_test, y_pred, linewidth=0.5)\n",
    "\n",
    "    y_train = y_train.resample('ME').mean()\n",
    "    y_test = y_test.resample('ME').mean()\n",
    "    y_pred = y_pred.resample('ME').mean()\n",
    "\n",
    "    scores = get_scores(y_test, y_pred)\n",
    "    add_scores_to_dict(metrics_monthly, scores)\n",
    "\n",
    "    plot_prediction(axm[outer_fold], TARGET, y_train, y_test, y_pred)"
   ]
  },
  {
   "cell_type": "code",
   "execution_count": null,
   "id": "12",
   "metadata": {},
   "outputs": [],
   "source": [
    "pd.DataFrame(metrics).mean()"
   ]
  },
  {
   "cell_type": "code",
   "execution_count": null,
   "id": "13",
   "metadata": {},
   "outputs": [],
   "source": [
    "pd.DataFrame(metrics_monthly).mean()"
   ]
  }
 ],
 "metadata": {
  "kernelspec": {
   "display_name": "Python 3",
   "language": "python",
   "name": "python3"
  },
  "language_info": {
   "codemirror_mode": {
    "name": "ipython",
    "version": 3
   },
   "file_extension": ".py",
   "mimetype": "text/x-python",
   "name": "python",
   "nbconvert_exporter": "python",
   "pygments_lexer": "ipython3",
   "version": "3.13.2"
  }
 },
 "nbformat": 4,
 "nbformat_minor": 5
}
