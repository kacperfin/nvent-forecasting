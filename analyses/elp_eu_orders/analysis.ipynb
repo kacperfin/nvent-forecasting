{
 "cells": [
  {
   "cell_type": "markdown",
   "id": "0",
   "metadata": {},
   "source": [
    "# ELP EU"
   ]
  },
  {
   "cell_type": "code",
   "execution_count": null,
   "id": "1",
   "metadata": {},
   "outputs": [],
   "source": [
    "import pandas as pd\n",
    "import numpy as np\n",
    "import matplotlib\n",
    "import matplotlib.pyplot as plt\n",
    "import seaborn as sns\n",
    "from sklearn.model_selection import TimeSeriesSplit\n",
    "from sklearn.ensemble import RandomForestRegressor\n",
    "\n",
    "from settings import TARGET, COLUMNS_TO_DROP, LAGS, DIFFS\n",
    "from features import add_time_features, add_lags, add_diffs\n",
    "from metrics import get_scores, add_scores_to_dict\n",
    "from plots import plot_prediction\n",
    "from clean_data import get_elp_eu_orders_dataframe\n",
    "\n",
    "sns.set_style('whitegrid')\n",
    "matplotlib.rcParams['grid.color'] = '#eee'\n",
    "color_palette = sns.color_palette()"
   ]
  },
  {
   "cell_type": "code",
   "execution_count": null,
   "id": "2",
   "metadata": {},
   "outputs": [],
   "source": [
    "df = get_elp_eu_orders_dataframe()\n",
    "df.head()"
   ]
  },
  {
   "cell_type": "markdown",
   "id": "3",
   "metadata": {},
   "source": [
    "#### Initial data exploring"
   ]
  },
  {
   "cell_type": "code",
   "execution_count": null,
   "id": "4",
   "metadata": {},
   "outputs": [],
   "source": [
    "for word in ['day', 'day_of_week', 'month', 'year']:\n",
    "    fig, ax = plt.subplots(1, 1, figsize=(12, 3))\n",
    "    sns.lineplot(df, x=getattr(df.index, word), y=df[TARGET])\n",
    "    plt.xlabel('Date')\n",
    "    plt.ylabel('$', rotation=0, labelpad=16)\n",
    "    ax.get_yaxis().set_major_formatter(matplotlib.ticker.FuncFormatter(lambda x, p: format(int(x), ',')))\n",
    "    plt.title(f'Mean value of sum of orders for each day, aggregated by {word}')\n",
    "    plt.show()"
   ]
  },
  {
   "cell_type": "markdown",
   "id": "5",
   "metadata": {},
   "source": [
    "#### Feature engineering"
   ]
  },
  {
   "cell_type": "code",
   "execution_count": null,
   "id": "6",
   "metadata": {},
   "outputs": [],
   "source": [
    "add_time_features(df)\n",
    "add_lags(df, lags=LAGS, columns=[TARGET, 'count_of_orders'])\n",
    "add_diffs(df, diffs=DIFFS, columns=[TARGET, 'count_of_orders'])"
   ]
  },
  {
   "cell_type": "markdown",
   "id": "7",
   "metadata": {},
   "source": [
    "#### Data split & training the model"
   ]
  },
  {
   "cell_type": "code",
   "execution_count": null,
   "id": "8",
   "metadata": {},
   "outputs": [],
   "source": [
    "metrics = {\n",
    "        'rmse': [],\n",
    "        'mae': [],\n",
    "        'mape': [],\n",
    "        'r2': [],\n",
    "}\n",
    "\n",
    "metrics_monthly = {\n",
    "    'rmse': [],\n",
    "    'mae': [],\n",
    "    'mape': [],\n",
    "    'r2': [],\n",
    "}\n",
    "\n",
    "n_splits = 3\n",
    "tscv = TimeSeriesSplit(n_splits=n_splits, test_size=364)"
   ]
  },
  {
   "cell_type": "code",
   "execution_count": null,
   "id": "9",
   "metadata": {},
   "outputs": [],
   "source": [
    "fig, ax = plt.subplots(n_splits, 1, figsize=(20, 4*n_splits), sharex=True)\n",
    "fig, ax_monthly = plt.subplots(n_splits, 1, figsize=(20, 4*n_splits), sharex=True)\n",
    "\n",
    "for i, (train_indices, test_indices) in enumerate(tscv.split(df)):\n",
    "    train, test = df.iloc[train_indices], df.iloc[test_indices]\n",
    "    \n",
    "    X_train = train.drop(columns=COLUMNS_TO_DROP)\n",
    "    y_train = train[[TARGET]]\n",
    "\n",
    "    X_test = test.drop(columns=COLUMNS_TO_DROP)\n",
    "    y_test = test[[TARGET]]\n",
    "\n",
    "    model = RandomForestRegressor(n_estimators=5)\n",
    "    model.fit(X_train, y_train[TARGET])\n",
    "\n",
    "    y_pred = model.predict(X_test)\n",
    "\n",
    "    y_pred = pd.DataFrame(y_pred,\n",
    "                          columns=[TARGET],\n",
    "                          index=y_test.index)\n",
    "    \n",
    "    scores = get_scores(y_test, y_pred)\n",
    "    add_scores_to_dict(metrics, scores)\n",
    "    \n",
    "    plot_prediction(ax[i], TARGET, y_train, y_test, y_pred, linewidth=0.5)\n",
    "    \n",
    "    y_train = y_train.resample('ME').mean()\n",
    "    y_test = y_test.resample('ME').mean()\n",
    "    y_pred = y_pred.resample('ME').mean()\n",
    "\n",
    "    scores_monthly = get_scores(y_test, y_pred)\n",
    "    add_scores_to_dict(metrics_monthly, scores)\n",
    "    \n",
    "    plot_prediction(ax_monthly[i], TARGET, y_train, y_test, y_pred)"
   ]
  }
 ],
 "metadata": {
  "kernelspec": {
   "display_name": "Python 3",
   "language": "python",
   "name": "python3"
  },
  "language_info": {
   "codemirror_mode": {
    "name": "ipython",
    "version": 3
   },
   "file_extension": ".py",
   "mimetype": "text/x-python",
   "name": "python",
   "nbconvert_exporter": "python",
   "pygments_lexer": "ipython3",
   "version": "3.13.2"
  }
 },
 "nbformat": 4,
 "nbformat_minor": 5
}
