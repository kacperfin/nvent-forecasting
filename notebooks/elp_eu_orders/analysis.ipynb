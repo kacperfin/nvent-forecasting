{
 "cells": [
  {
   "cell_type": "markdown",
   "id": "0",
   "metadata": {},
   "source": [
    "# ELP EU Orders"
   ]
  },
  {
   "cell_type": "markdown",
   "id": "1",
   "metadata": {},
   "source": [
    "#### Imports"
   ]
  },
  {
   "cell_type": "code",
   "execution_count": null,
   "id": "2",
   "metadata": {},
   "outputs": [],
   "source": [
    "import pandas as pd\n",
    "import matplotlib\n",
    "import matplotlib.pyplot as plt\n",
    "import seaborn as sns\n",
    "from statsmodels.graphics.tsaplots import plot_acf, plot_pacf\n",
    "\n",
    "from nv_forecasting.configs import DEFAULT_CONFIG as config\n",
    "from nv_forecasting.load_data.elp_eu_orders_daily import ELPEUOrdersDaily\n",
    "from nv_forecasting.style import set_style\n",
    "from nv_forecasting.statistics.white_noise_test import white_noise_test"
   ]
  },
  {
   "cell_type": "markdown",
   "id": "3",
   "metadata": {},
   "source": [
    "#### Settings"
   ]
  },
  {
   "cell_type": "code",
   "execution_count": null,
   "id": "4",
   "metadata": {},
   "outputs": [],
   "source": [
    "TARGET = config.get('target') # Target column name\n",
    "AGGREGATION = config.get('aggregation')\n",
    "\n",
    "# Style\n",
    "set_style()"
   ]
  },
  {
   "cell_type": "markdown",
   "id": "5",
   "metadata": {},
   "source": [
    "#### Loading the data"
   ]
  },
  {
   "cell_type": "code",
   "execution_count": null,
   "id": "6",
   "metadata": {},
   "outputs": [],
   "source": [
    "data_handler = ELPEUOrdersDaily('data\\\\elp_eu_orders_daily.csv')\n",
    "df = data_handler.get_dataframe(agg=AGGREGATION)\n",
    "weekly_df = df.resample('W').sum()\n",
    "monthly_df = df.resample('ME').sum()"
   ]
  },
  {
   "cell_type": "markdown",
   "id": "7",
   "metadata": {},
   "source": [
    "#### Initial data exploring"
   ]
  },
  {
   "cell_type": "markdown",
   "id": "8",
   "metadata": {},
   "source": [
    "##### Relationships with time"
   ]
  },
  {
   "cell_type": "code",
   "execution_count": null,
   "id": "9",
   "metadata": {},
   "outputs": [],
   "source": [
    "for word in ['day', 'day_of_week', 'month', 'year']:\n",
    "    fig, ax = plt.subplots(1, 1, figsize=(12, 3))\n",
    "    sns.lineplot(df, x=getattr(df.index, word), y=df[TARGET])\n",
    "    plt.xlabel('Date')\n",
    "    plt.ylabel('$', rotation=0, labelpad=16)\n",
    "    ax.get_yaxis().set_major_formatter(matplotlib.ticker.FuncFormatter(lambda x, p: format(int(x), ',')))\n",
    "    plt.title(f'Mean value of sum of orders for each day, aggregated by {word}')\n",
    "    plt.show()"
   ]
  },
  {
   "cell_type": "markdown",
   "id": "10",
   "metadata": {},
   "source": [
    "##### ACF and PACF"
   ]
  },
  {
   "cell_type": "code",
   "execution_count": null,
   "id": "11",
   "metadata": {},
   "outputs": [],
   "source": [
    "fig, (acf, pacf) = plt.subplots(2, 1, figsize=(20, 6))\n",
    "\n",
    "plot_acf(df[TARGET], ax=acf, lags=35)\n",
    "plot_pacf(df[TARGET], ax=pacf, lags=35)\n",
    "plt.suptitle('Orders in $ – daily')\n",
    "plt.show()"
   ]
  },
  {
   "cell_type": "code",
   "execution_count": null,
   "id": "12",
   "metadata": {},
   "outputs": [],
   "source": [
    "fig, (acf, pacf) = plt.subplots(2, 1, figsize=(20, 6))\n",
    "\n",
    "plot_acf(weekly_df[TARGET], ax=acf, lags=52)\n",
    "plot_pacf(weekly_df[TARGET], ax=pacf, lags=52)\n",
    "plt.suptitle('Orders in $ – weekly')\n",
    "plt.show()"
   ]
  },
  {
   "cell_type": "code",
   "execution_count": null,
   "id": "13",
   "metadata": {},
   "outputs": [],
   "source": [
    "fig, (acf, pacf) = plt.subplots(2, 1, figsize=(20, 6))\n",
    "\n",
    "plot_acf(monthly_df[TARGET], ax=acf, lags=24)\n",
    "plot_pacf(monthly_df[TARGET], ax=pacf, lags=24)\n",
    "plt.suptitle('Orders in $ – monthly')\n",
    "plt.show()"
   ]
  },
  {
   "cell_type": "markdown",
   "id": "14",
   "metadata": {},
   "source": [
    "##### Ljung–Box test – checking if data is similar to white noise "
   ]
  },
  {
   "cell_type": "code",
   "execution_count": null,
   "id": "15",
   "metadata": {},
   "outputs": [],
   "source": [
    "print('--- Daily aggregation ---')\n",
    "white_noise_test(df[TARGET], lags=35)\n",
    "\n",
    "print('--- Weekly aggregation ---')\n",
    "white_noise_test(weekly_df[TARGET], lags=52)\n",
    "\n",
    "print('--- Monthly aggregation ---')\n",
    "white_noise_test(monthly_df[TARGET], lags=24)"
   ]
  },
  {
   "cell_type": "markdown",
   "id": "16",
   "metadata": {},
   "source": [
    "Found weekly seasonality and also yearly seasonality, but only on the weekly level."
   ]
  }
 ],
 "metadata": {
  "kernelspec": {
   "display_name": "Python 3",
   "language": "python",
   "name": "python3"
  },
  "language_info": {
   "codemirror_mode": {
    "name": "ipython",
    "version": 3
   },
   "file_extension": ".py",
   "mimetype": "text/x-python",
   "name": "python",
   "nbconvert_exporter": "python",
   "pygments_lexer": "ipython3",
   "version": "3.13.2"
  }
 },
 "nbformat": 4,
 "nbformat_minor": 5
}
