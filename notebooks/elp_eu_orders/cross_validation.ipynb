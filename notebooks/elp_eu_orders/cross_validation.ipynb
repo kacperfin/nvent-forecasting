{
 "cells": [
  {
   "cell_type": "markdown",
   "id": "0",
   "metadata": {},
   "source": [
    "# ELP EU Orders"
   ]
  },
  {
   "cell_type": "markdown",
   "id": "1",
   "metadata": {},
   "source": [
    "#### Imports"
   ]
  },
  {
   "cell_type": "code",
   "execution_count": null,
   "id": "2",
   "metadata": {},
   "outputs": [],
   "source": [
    "import numpy as np\n",
    "import pandas as pd\n",
    "import matplotlib\n",
    "import matplotlib.pyplot as plt\n",
    "import seaborn as sns\n",
    "from sklearn.model_selection import GridSearchCV\n",
    "from sklearn.ensemble import RandomForestRegressor\n",
    "\n",
    "from nv_forecasting.configs import DEFAULT_CONFIG as config\n",
    "from nv_forecasting.load_data.elp_eu_orders_daily import ELPEUOrdersDaily\n",
    "from nv_forecasting.style import set_style\n",
    "from nv_forecasting.feature_engineering.add_time_features import add_time_features\n",
    "from nv_forecasting.feature_engineering.add_lags import add_lags\n",
    "from nv_forecasting.plots import plot_cross_validation_results\n",
    "from nv_forecasting.metrics import get_scores, add_scores_to_dict\n",
    "from nv_forecasting.model_wrappers.mean_forecaster import MeanForecaster\n",
    "from nv_forecasting.model_wrappers.random_forest_gs import RandomForestGS\n",
    "from nv_forecasting.cross_validation.cross_validate import cross_validate"
   ]
  },
  {
   "cell_type": "markdown",
   "id": "3",
   "metadata": {},
   "source": [
    "#### Settings"
   ]
  },
  {
   "cell_type": "code",
   "execution_count": null,
   "id": "4",
   "metadata": {},
   "outputs": [],
   "source": [
    "TARGET = config.get('target') # Target column name\n",
    "DATETIME_COLUMN_NAME = config.get('datetime_column_name')\n",
    "AGGREGATION = config.get('aggregation')\n",
    "COLUMNS_TO_LAG = config.get('columns_to_lag')\n",
    "COLUMNS_TO_DROP = config.get('columns_to_drop')\n",
    "\n",
    "# Feature engineering\n",
    "LAGS = config.get('lags')\n",
    "\n",
    "# Model training\n",
    "N_OUTER_SPLITS = config.get('n_outer_splits')\n",
    "N_INNER_SPLITS = config.get('n_inner_splits')\n",
    "N_FINAL_SPLITS = config.get('n_final_splits')\n",
    "TEST_SIZE = config.get('test_size')\n",
    "SCORING = config.get('scoring')\n",
    "\n",
    "# Data splits\n",
    "outer_cv = config.get('outer_cv')\n",
    "inner_cv = config.get('inner_cv')\n",
    "final_cv = config.get('final_cv')\n",
    "\n",
    "# Style\n",
    "set_style()"
   ]
  },
  {
   "cell_type": "markdown",
   "id": "5",
   "metadata": {},
   "source": [
    "#### Loading the data"
   ]
  },
  {
   "cell_type": "code",
   "execution_count": null,
   "id": "6",
   "metadata": {},
   "outputs": [],
   "source": [
    "data_handler = ELPEUOrdersDaily('data\\\\elp_eu_orders_daily.csv')\n",
    "df = data_handler.get_dataframe(agg=AGGREGATION)"
   ]
  },
  {
   "cell_type": "markdown",
   "id": "7",
   "metadata": {},
   "source": [
    "#### Feature engineering"
   ]
  },
  {
   "cell_type": "code",
   "execution_count": null,
   "id": "8",
   "metadata": {},
   "outputs": [],
   "source": [
    "add_time_features(df)\n",
    "add_lags(df, lags=LAGS, columns=COLUMNS_TO_LAG)\n",
    "df.dropna(inplace=True)\n",
    "\n",
    "X = df.drop(columns=COLUMNS_TO_DROP)\n",
    "y = df[[TARGET]]"
   ]
  },
  {
   "cell_type": "markdown",
   "id": "9",
   "metadata": {},
   "source": [
    "#### Choice of models"
   ]
  },
  {
   "cell_type": "code",
   "execution_count": null,
   "id": "10",
   "metadata": {},
   "outputs": [],
   "source": [
    "rf = RandomForestGS(param_grid={\n",
    "    'n_estimators': [100, 200, 500, 1000, 2000],\n",
    "    'max_depth': [5, 10, None],\n",
    "    'min_samples_split': [2, 3, 4, 5],\n",
    "})\n",
    "\n",
    "mean_forecaster = MeanForecaster(last_days=TEST_SIZE)"
   ]
  },
  {
   "cell_type": "code",
   "execution_count": null,
   "id": "11",
   "metadata": {},
   "outputs": [],
   "source": [
    "models_list = [rf, mean_forecaster]"
   ]
  },
  {
   "cell_type": "markdown",
   "id": "12",
   "metadata": {},
   "source": [
    "#### Hyperparameter tuning (time series nested cross-validation)"
   ]
  },
  {
   "cell_type": "code",
   "execution_count": null,
   "id": "13",
   "metadata": {},
   "outputs": [],
   "source": [
    "cv_summary = cross_validate(models_list, outer_cv, inner_cv, X, y, TARGET, SCORING, additional_aggregations=['ME'])"
   ]
  },
  {
   "cell_type": "markdown",
   "id": "14",
   "metadata": {},
   "source": [
    "#### Plotting cross-validation results"
   ]
  },
  {
   "cell_type": "code",
   "execution_count": null,
   "id": "15",
   "metadata": {},
   "outputs": [],
   "source": [
    "plot_cross_validation_results(y, TARGET, outer_cv, cv_summary, models_names_list=['random_forest_gs', 'mean_forecaster'], linewidth=0.5)"
   ]
  }
 ],
 "metadata": {
  "kernelspec": {
   "display_name": "Python 3",
   "language": "python",
   "name": "python3"
  },
  "language_info": {
   "codemirror_mode": {
    "name": "ipython",
    "version": 3
   },
   "file_extension": ".py",
   "mimetype": "text/x-python",
   "name": "python",
   "nbconvert_exporter": "python",
   "pygments_lexer": "ipython3",
   "version": "3.13.2"
  }
 },
 "nbformat": 4,
 "nbformat_minor": 5
}
