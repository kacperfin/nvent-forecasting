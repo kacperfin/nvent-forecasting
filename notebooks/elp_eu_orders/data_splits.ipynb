{
 "cells": [
  {
   "cell_type": "markdown",
   "id": "0",
   "metadata": {},
   "source": [
    "# ELP EU Orders"
   ]
  },
  {
   "cell_type": "markdown",
   "id": "1",
   "metadata": {},
   "source": [
    "#### Imports"
   ]
  },
  {
   "cell_type": "code",
   "execution_count": null,
   "id": "2",
   "metadata": {},
   "outputs": [],
   "source": [
    "from nv_forecasting.configs import DEFAULT_CONFIG\n",
    "from nv_forecasting.load_data.elp_eu_orders_daily import ELPEUOrdersDaily\n",
    "from nv_forecasting.style import set_style\n",
    "from nv_forecasting.plots import plot_data_split, plot_nested_data_split"
   ]
  },
  {
   "cell_type": "markdown",
   "id": "3",
   "metadata": {},
   "source": [
    "#### Settings"
   ]
  },
  {
   "cell_type": "code",
   "execution_count": null,
   "id": "4",
   "metadata": {},
   "outputs": [],
   "source": [
    "TARGET = DEFAULT_CONFIG.get('target') # Target column name\n",
    "DATETIME_COLUMN_NAME = DEFAULT_CONFIG.get('datetime_column_name')\n",
    "COLUMNS_TO_LAG = DEFAULT_CONFIG.get('columns_to_lag')\n",
    "COLUMNS_TO_DROP = DEFAULT_CONFIG.get('columns_to_drop')\n",
    "\n",
    "# Feature engineering\n",
    "LAGS = DEFAULT_CONFIG.get('lags')\n",
    "\n",
    "# Model training\n",
    "N_OUTER_SPLITS = DEFAULT_CONFIG.get('n_outer_splits')\n",
    "N_INNER_SPLITS = DEFAULT_CONFIG.get('n_inner_splits')\n",
    "N_FINAL_SPLITS = DEFAULT_CONFIG.get('n_final_splits')\n",
    "TEST_SIZE = DEFAULT_CONFIG.get('test_size')\n",
    "SCORING = DEFAULT_CONFIG.get('scoring')\n",
    "\n",
    "# Data splits\n",
    "outer_cv = DEFAULT_CONFIG.get('outer_cv')\n",
    "inner_cv = DEFAULT_CONFIG.get('inner_cv')\n",
    "final_cv = DEFAULT_CONFIG.get('final_cv')\n",
    "\n",
    "# Style\n",
    "set_style()"
   ]
  },
  {
   "cell_type": "markdown",
   "id": "5",
   "metadata": {},
   "source": [
    "#### Loading the data"
   ]
  },
  {
   "cell_type": "code",
   "execution_count": null,
   "id": "6",
   "metadata": {},
   "outputs": [],
   "source": [
    "data_handler = ELPEUOrdersDaily('data\\\\elp_eu_orders_daily.csv')\n",
    "df = data_handler.get_dataframe(agg='D')\n",
    "\n",
    "X = df.drop(columns=COLUMNS_TO_DROP)\n",
    "y = df[[TARGET]]"
   ]
  },
  {
   "cell_type": "markdown",
   "id": "7",
   "metadata": {},
   "source": [
    "#### Data splits"
   ]
  },
  {
   "cell_type": "markdown",
   "id": "8",
   "metadata": {},
   "source": [
    "##### Hyperparameter tuning split"
   ]
  },
  {
   "cell_type": "code",
   "execution_count": null,
   "id": "9",
   "metadata": {},
   "outputs": [],
   "source": [
    "plot_nested_data_split(TARGET, outer_cv, inner_cv, df, linewidth=0.5)"
   ]
  },
  {
   "cell_type": "markdown",
   "id": "10",
   "metadata": {},
   "source": [
    "##### Final model training split"
   ]
  },
  {
   "cell_type": "code",
   "execution_count": null,
   "id": "11",
   "metadata": {},
   "outputs": [],
   "source": [
    "plot_data_split(TARGET, final_cv, df, linewidth=0.5)"
   ]
  }
 ],
 "metadata": {
  "kernelspec": {
   "display_name": "Python 3",
   "language": "python",
   "name": "python3"
  },
  "language_info": {
   "codemirror_mode": {
    "name": "ipython",
    "version": 3
   },
   "file_extension": ".py",
   "mimetype": "text/x-python",
   "name": "python",
   "nbconvert_exporter": "python",
   "pygments_lexer": "ipython3",
   "version": "3.13.2"
  }
 },
 "nbformat": 4,
 "nbformat_minor": 5
}
